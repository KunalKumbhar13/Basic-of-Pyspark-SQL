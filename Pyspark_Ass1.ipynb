{
  "nbformat": 4,
  "nbformat_minor": 0,
  "metadata": {
    "colab": {
      "provenance": []
    },
    "kernelspec": {
      "name": "python3",
      "display_name": "Python 3"
    },
    "language_info": {
      "name": "python"
    }
  },
  "cells": [
    {
      "cell_type": "markdown",
      "source": [
        "**Q1**"
      ],
      "metadata": {
        "id": "l-wnoIt4pVLY"
      }
    },
    {
      "cell_type": "code",
      "execution_count": 1,
      "metadata": {
        "colab": {
          "base_uri": "https://localhost:8080/"
        },
        "id": "StKBtrJniQ1R",
        "outputId": "430b6cb6-f2fb-4d86-9277-4ed944f1ab7c"
      },
      "outputs": [
        {
          "output_type": "stream",
          "name": "stdout",
          "text": [
            "Collecting pyspark\n",
            "  Downloading pyspark-3.5.2.tar.gz (317.3 MB)\n",
            "\u001b[2K     \u001b[90m━━━━━━━━━━━━━━━━━━━━━━━━━━━━━━━━━━━━━━━━\u001b[0m \u001b[32m317.3/317.3 MB\u001b[0m \u001b[31m4.9 MB/s\u001b[0m eta \u001b[36m0:00:00\u001b[0m\n",
            "\u001b[?25h  Preparing metadata (setup.py) ... \u001b[?25l\u001b[?25hdone\n",
            "Requirement already satisfied: py4j==0.10.9.7 in /usr/local/lib/python3.10/dist-packages (from pyspark) (0.10.9.7)\n",
            "Building wheels for collected packages: pyspark\n",
            "  Building wheel for pyspark (setup.py) ... \u001b[?25l\u001b[?25hdone\n",
            "  Created wheel for pyspark: filename=pyspark-3.5.2-py2.py3-none-any.whl size=317812365 sha256=02d47ebcfeac0cde6d499fdc172b9354653bfe1a022e9c7d600ce92df36da704\n",
            "  Stored in directory: /root/.cache/pip/wheels/34/34/bd/03944534c44b677cd5859f248090daa9fb27b3c8f8e5f49574\n",
            "Successfully built pyspark\n",
            "Installing collected packages: pyspark\n",
            "Successfully installed pyspark-3.5.2\n"
          ]
        }
      ],
      "source": [
        "pip install pyspark\n"
      ]
    },
    {
      "cell_type": "code",
      "source": [
        "from pyspark.sql import SparkSession\n",
        "from pyspark.sql.functions import col, collect_list"
      ],
      "metadata": {
        "id": "QgEkhMDLkxnH"
      },
      "execution_count": 64,
      "outputs": []
    },
    {
      "cell_type": "code",
      "source": [
        "spark = SparkSession.builder.appName(\"StudentClassData\").getOrCreate()"
      ],
      "metadata": {
        "id": "DK1XeDIQlR-f"
      },
      "execution_count": 65,
      "outputs": []
    },
    {
      "cell_type": "code",
      "source": [
        "students_columns = [\"rollno\", \"name\", \"address\", \"age\", \"gender\", \"classid\"]\n",
        "students_df = spark.createDataFrame(students_data, students_columns)\n",
        "students_df.show()"
      ],
      "metadata": {
        "colab": {
          "base_uri": "https://localhost:8080/"
        },
        "id": "3W2mC47FlXi3",
        "outputId": "d571e5ed-22c1-4e9c-c709-0a68ededa9cd"
      },
      "execution_count": 66,
      "outputs": [
        {
          "output_type": "stream",
          "name": "stdout",
          "text": [
            "+------+--------+-------+---+------+-------+\n",
            "|rollno|    name|address|age|gender|classid|\n",
            "+------+--------+-------+---+------+-------+\n",
            "|   101| Shalini| 123 St| 20|     F|      1|\n",
            "|   102|    Anna| 456 St| 23|     M|      2|\n",
            "|   103|    Abba| 789 St| 21|     M|      1|\n",
            "|   104| Sandeep| 101 St| 22|     M|      3|\n",
            "|   105|Vaishali| 202 St| 24|     F|      2|\n",
            "+------+--------+-------+---+------+-------+\n",
            "\n"
          ]
        }
      ]
    },
    {
      "cell_type": "code",
      "source": [
        "# Create the student dataframe\n",
        "students_data = [\n",
        "    (101, \"Shalini\", \"123 St\", 20, \"F\", 1),\n",
        "    (102, \"Anna\", \"456 St\", 23, \"M\", 2),\n",
        "    (103, \"Abba\", \"789 St\", 21, \"M\", 1),\n",
        "    (104, \"Sandeep\", \"101 St\", 22, \"M\", 3),\n",
        "    (105, \"Vaishali\", \"202 St\", 24, \"F\", 2)\n",
        "]"
      ],
      "metadata": {
        "id": "GbUnFySRlUg_"
      },
      "execution_count": 67,
      "outputs": []
    },
    {
      "cell_type": "code",
      "source": [
        "class_columns = [\"classid\", \"classname\"]\n",
        "class_df = spark.createDataFrame(class_data, class_columns)"
      ],
      "metadata": {
        "id": "-Nx7uiEJlcOP"
      },
      "execution_count": 68,
      "outputs": []
    },
    {
      "cell_type": "code",
      "source": [
        "# Create the class dataframe\n",
        "class_data = [\n",
        "    (1, \"Math\"),\n",
        "    (2, \"Science\"),\n",
        "    (3, \"History\")\n",
        "]"
      ],
      "metadata": {
        "id": "seT0y7WwlZ3P"
      },
      "execution_count": 69,
      "outputs": []
    },
    {
      "cell_type": "code",
      "source": [
        "print(\"Class DataFrame:\")\n",
        "class_df.show()"
      ],
      "metadata": {
        "colab": {
          "base_uri": "https://localhost:8080/"
        },
        "id": "CDq50rF2lhfB",
        "outputId": "1b4f5c28-0e9a-4994-b0e7-6500fe82635d"
      },
      "execution_count": 70,
      "outputs": [
        {
          "output_type": "stream",
          "name": "stdout",
          "text": [
            "Class DataFrame:\n",
            "+-------+---------+\n",
            "|classid|classname|\n",
            "+-------+---------+\n",
            "|      1|     Math|\n",
            "|      2|  Science|\n",
            "|      3|  History|\n",
            "+-------+---------+\n",
            "\n"
          ]
        }
      ]
    },
    {
      "cell_type": "code",
      "source": [
        "# Display student names with gender = M and gender = F separately\n",
        "male_students = students_df.filter(col(\"gender\") == \"M\")\n",
        "female_students = students_df.filter(col(\"gender\") == \"F\")"
      ],
      "metadata": {
        "id": "45jxIV_Slj6h"
      },
      "execution_count": 71,
      "outputs": []
    },
    {
      "cell_type": "code",
      "source": [
        "print(\"Male Students:\")\n",
        "male_students.select(\"name\").show()"
      ],
      "metadata": {
        "colab": {
          "base_uri": "https://localhost:8080/"
        },
        "id": "mPL5hgI4lnO5",
        "outputId": "c6300229-40d8-405f-a1b5-30e04efb1144"
      },
      "execution_count": 72,
      "outputs": [
        {
          "output_type": "stream",
          "name": "stdout",
          "text": [
            "Male Students:\n",
            "+-------+\n",
            "|   name|\n",
            "+-------+\n",
            "|   Anna|\n",
            "|   Abba|\n",
            "|Sandeep|\n",
            "+-------+\n",
            "\n"
          ]
        }
      ]
    },
    {
      "cell_type": "code",
      "source": [
        "print(\"Female Students:\")\n",
        "female_students.select(\"name\").show()"
      ],
      "metadata": {
        "colab": {
          "base_uri": "https://localhost:8080/"
        },
        "id": "nDldFR7vlpph",
        "outputId": "7b5c610d-1625-443a-b0fd-24f9e97afba1"
      },
      "execution_count": 73,
      "outputs": [
        {
          "output_type": "stream",
          "name": "stdout",
          "text": [
            "Female Students:\n",
            "+--------+\n",
            "|    name|\n",
            "+--------+\n",
            "| Shalini|\n",
            "|Vaishali|\n",
            "+--------+\n",
            "\n"
          ]
        }
      ]
    },
    {
      "cell_type": "code",
      "source": [
        "# Display students of a specific class\n",
        "class_name = \"Math\"\n",
        "class_id = class_df.filter(col(\"classname\") == class_name).select(\"classid\").collect()[0][0]\n",
        "students_in_class = students_df.filter(col(\"classid\") == class_id)"
      ],
      "metadata": {
        "id": "tYJk5s8dlr2J"
      },
      "execution_count": 74,
      "outputs": []
    },
    {
      "cell_type": "code",
      "source": [
        "print(f\"Students in class {class_name}:\")\n",
        "students_in_class.show()"
      ],
      "metadata": {
        "colab": {
          "base_uri": "https://localhost:8080/"
        },
        "id": "RvJImJnKluMx",
        "outputId": "6f70a50b-5d0e-46d9-a971-dbf7ae043e25"
      },
      "execution_count": 75,
      "outputs": [
        {
          "output_type": "stream",
          "name": "stdout",
          "text": [
            "Students in class Math:\n",
            "+------+-------+-------+---+------+-------+\n",
            "|rollno|   name|address|age|gender|classid|\n",
            "+------+-------+-------+---+------+-------+\n",
            "|   101|Shalini| 123 St| 20|     F|      1|\n",
            "|   103|   Abba| 789 St| 21|     M|      1|\n",
            "+------+-------+-------+---+------+-------+\n",
            "\n"
          ]
        }
      ]
    },
    {
      "cell_type": "code",
      "source": [
        "# Display students whose age > 22\n",
        "students_above_22 = students_df.filter(col(\"age\") > 22)"
      ],
      "metadata": {
        "id": "GwSDfbWFlwUv"
      },
      "execution_count": 76,
      "outputs": []
    },
    {
      "cell_type": "code",
      "source": [
        "print(\"Students whose age is greater than 22:\")\n",
        "students_above_22.show()"
      ],
      "metadata": {
        "colab": {
          "base_uri": "https://localhost:8080/"
        },
        "id": "S4Nx1SR_lyR3",
        "outputId": "b59c9c07-16af-4b79-b0cb-bccc74c8a1ba"
      },
      "execution_count": 77,
      "outputs": [
        {
          "output_type": "stream",
          "name": "stdout",
          "text": [
            "Students whose age is greater than 22:\n",
            "+------+--------+-------+---+------+-------+\n",
            "|rollno|    name|address|age|gender|classid|\n",
            "+------+--------+-------+---+------+-------+\n",
            "|   102|    Anna| 456 St| 23|     M|      2|\n",
            "|   105|Vaishali| 202 St| 24|     F|      2|\n",
            "+------+--------+-------+---+------+-------+\n",
            "\n"
          ]
        }
      ]
    },
    {
      "cell_type": "code",
      "source": [
        "# Add new column 'grade' to student dataframe\n",
        "students_df = students_df.withColumn(\"grade\", col(\"rollno\").cast(\"string\").substr(-1, 1))\n",
        "grade_mapping = {\"1\": \"A\", \"2\": \"B\", \"3\": \"C\", \"4\": \"C\", \"5\": \"B\"}\n",
        "students_df = students_df.replace(grade_mapping, subset=[\"grade\"])"
      ],
      "metadata": {
        "id": "r5fVXbMfl0MA"
      },
      "execution_count": 78,
      "outputs": []
    },
    {
      "cell_type": "code",
      "source": [
        "print(\"Students DataFrame with Grade:\")\n",
        "students_df.show()"
      ],
      "metadata": {
        "colab": {
          "base_uri": "https://localhost:8080/"
        },
        "id": "NoCOMxTUl21n",
        "outputId": "aa82eadb-1ad9-4e88-f884-fb909b5929f7"
      },
      "execution_count": 79,
      "outputs": [
        {
          "output_type": "stream",
          "name": "stdout",
          "text": [
            "Students DataFrame with Grade:\n",
            "+------+--------+-------+---+------+-------+-----+\n",
            "|rollno|    name|address|age|gender|classid|grade|\n",
            "+------+--------+-------+---+------+-------+-----+\n",
            "|   101| Shalini| 123 St| 20|     F|      1|    A|\n",
            "|   102|    Anna| 456 St| 23|     M|      2|    B|\n",
            "|   103|    Abba| 789 St| 21|     M|      1|    C|\n",
            "|   104| Sandeep| 101 St| 22|     M|      3|    C|\n",
            "|   105|Vaishali| 202 St| 24|     F|      2|    B|\n",
            "+------+--------+-------+---+------+-------+-----+\n",
            "\n"
          ]
        }
      ]
    },
    {
      "cell_type": "code",
      "source": [
        "# Display class names and their associated students\n",
        "merged_df = students_df.join(class_df, \"classid\")\n",
        "merged_df.groupBy(\"classname\").agg(collect_list(\"name\").alias(\"students\")).show(truncate=False)"
      ],
      "metadata": {
        "colab": {
          "base_uri": "https://localhost:8080/"
        },
        "id": "p7gtBGbTl4uv",
        "outputId": "83fa42bd-53c3-4754-f92a-05cbde42574a"
      },
      "execution_count": 80,
      "outputs": [
        {
          "output_type": "stream",
          "name": "stdout",
          "text": [
            "+---------+----------------+\n",
            "|classname|students        |\n",
            "+---------+----------------+\n",
            "|Science  |[Anna, Vaishali]|\n",
            "|Math     |[Shalini, Abba] |\n",
            "|History  |[Sandeep]       |\n",
            "+---------+----------------+\n",
            "\n"
          ]
        }
      ]
    },
    {
      "cell_type": "code",
      "source": [],
      "metadata": {
        "id": "GJxHXOvyl7mn"
      },
      "execution_count": null,
      "outputs": []
    },
    {
      "cell_type": "code",
      "source": [],
      "metadata": {
        "id": "hb2oEU5woRjI"
      },
      "execution_count": null,
      "outputs": []
    },
    {
      "cell_type": "markdown",
      "source": [
        "**Q2**"
      ],
      "metadata": {
        "id": "xz1vyPENpbae"
      }
    },
    {
      "cell_type": "code",
      "source": [
        "from pyspark.sql import SparkSession\n",
        "from pyspark.sql.functions import col"
      ],
      "metadata": {
        "id": "7nxHlQpQoSSf"
      },
      "execution_count": 81,
      "outputs": []
    },
    {
      "cell_type": "code",
      "source": [
        "# Initialize Spark session\n",
        "spark = SparkSession.builder.appName(\"EmployeeDepartmentData\").getOrCreate()"
      ],
      "metadata": {
        "id": "ShMA0ribog-4"
      },
      "execution_count": 82,
      "outputs": []
    },
    {
      "cell_type": "code",
      "source": [
        "emp_columns = [\"eno\", \"ename\", \"gender\", \"designation\", \"city\", \"salary\", \"dno\"]\n",
        "emp_df = spark.createDataFrame(emp_data, emp_columns)"
      ],
      "metadata": {
        "id": "HwotzUD9ojh_"
      },
      "execution_count": 83,
      "outputs": []
    },
    {
      "cell_type": "code",
      "source": [
        "# Create the emp dataframe\n",
        "emp_data = [\n",
        "    (1, \"Alice\", \"F\", \"Developer\", \"New York\", 90000, 101),\n",
        "    (2, \"Bob\", \"M\", \"Manager\", \"San Francisco\", 120000, 102),\n",
        "    (3, \"Charlie\", \"M\", \"Analyst\", \"Los Angeles\", 75000, 103),\n",
        "    (4, \"David\", \"M\", \"Developer\", \"New York\", 85000, 101),\n",
        "    (5, \"Eve\", \"F\", \"Manager\", \"Boston\", 110000, 104)\n",
        "]"
      ],
      "metadata": {
        "id": "NYFNHvJdohjw"
      },
      "execution_count": 84,
      "outputs": []
    },
    {
      "cell_type": "code",
      "source": [
        "emp_df.show()"
      ],
      "metadata": {
        "colab": {
          "base_uri": "https://localhost:8080/"
        },
        "id": "AxRZSN0srUN1",
        "outputId": "cb6fc56a-cecf-4e5f-81b8-42dabe6ad6ad"
      },
      "execution_count": 103,
      "outputs": [
        {
          "output_type": "stream",
          "name": "stdout",
          "text": [
            "+---+-----+------+-----------+-------------+------+---+\n",
            "|eno|ename|gender|designation|         city|salary|dno|\n",
            "+---+-----+------+-----------+-------------+------+---+\n",
            "|  2|  Bob|     M|    Manager|San Francisco|130000|102|\n",
            "|  5|  Eve|     F|    Manager|       Boston|120000|104|\n",
            "|  6|Frank|     M|    Analyst|      Chicago| 60000|105|\n",
            "|  7|Grace|     F|  Developer|San Francisco| 95000|101|\n",
            "|  8|Henry|     M|    Manager|     New York|130000|104|\n",
            "+---+-----+------+-----------+-------------+------+---+\n",
            "\n"
          ]
        }
      ]
    },
    {
      "cell_type": "code",
      "source": [
        "dept_columns = [\"dno\", \"dname\"]\n",
        "dept_df = spark.createDataFrame(dept_data, dept_columns)"
      ],
      "metadata": {
        "id": "w2yalLjvonOv"
      },
      "execution_count": 85,
      "outputs": []
    },
    {
      "cell_type": "code",
      "source": [
        "# Create the dept dataframe\n",
        "dept_data = [\n",
        "    (101, \"IT\"),\n",
        "    (102, \"HR\"),\n",
        "    (103, \"Finance\"),\n",
        "    (104, \"Sales\"),\n",
        "    (105, \"Marketing\")\n",
        "]"
      ],
      "metadata": {
        "id": "r4FSacwaold_"
      },
      "execution_count": 86,
      "outputs": []
    },
    {
      "cell_type": "code",
      "source": [
        "dept_df.show()"
      ],
      "metadata": {
        "colab": {
          "base_uri": "https://localhost:8080/"
        },
        "id": "qH5Z_Jfgray1",
        "outputId": "66e9f34f-b410-4646-a3b8-a74d6e14a50e"
      },
      "execution_count": 104,
      "outputs": [
        {
          "output_type": "stream",
          "name": "stdout",
          "text": [
            "+---+----------+\n",
            "|dno|     dname|\n",
            "+---+----------+\n",
            "|101|        IT|\n",
            "|102|        HR|\n",
            "|103|   Finance|\n",
            "|104|     Sales|\n",
            "|105| Marketing|\n",
            "|106|Operations|\n",
            "|107|     Legal|\n",
            "|108|       R&D|\n",
            "+---+----------+\n",
            "\n"
          ]
        }
      ]
    },
    {
      "cell_type": "code",
      "source": [
        "# Print the schema for both dataframes\n",
        "print(\"Schema of emp DataFrame:\")\n",
        "emp_df.printSchema()"
      ],
      "metadata": {
        "colab": {
          "base_uri": "https://localhost:8080/"
        },
        "id": "dlDH4-uBopEA",
        "outputId": "bfd48d96-a171-4a51-feae-a48ffa53bd9f"
      },
      "execution_count": 87,
      "outputs": [
        {
          "output_type": "stream",
          "name": "stdout",
          "text": [
            "Schema of emp DataFrame:\n",
            "root\n",
            " |-- eno: long (nullable = true)\n",
            " |-- ename: string (nullable = true)\n",
            " |-- gender: string (nullable = true)\n",
            " |-- designation: string (nullable = true)\n",
            " |-- city: string (nullable = true)\n",
            " |-- salary: long (nullable = true)\n",
            " |-- dno: long (nullable = true)\n",
            "\n"
          ]
        }
      ]
    },
    {
      "cell_type": "code",
      "source": [
        "print(\"Schema of dept DataFrame:\")\n",
        "dept_df.printSchema()"
      ],
      "metadata": {
        "colab": {
          "base_uri": "https://localhost:8080/"
        },
        "id": "x3rD1ggporH4",
        "outputId": "564a97bd-6ea7-4e0a-9720-3abe7fdf8911"
      },
      "execution_count": 88,
      "outputs": [
        {
          "output_type": "stream",
          "name": "stdout",
          "text": [
            "Schema of dept DataFrame:\n",
            "root\n",
            " |-- dno: long (nullable = true)\n",
            " |-- dname: string (nullable = true)\n",
            "\n"
          ]
        }
      ]
    },
    {
      "cell_type": "code",
      "source": [
        "# Filter emp dataframe based on designation\n",
        "print(\"Employees with designation 'Developer':\")\n",
        "emp_df.filter(col(\"designation\") == \"Developer\").show()"
      ],
      "metadata": {
        "colab": {
          "base_uri": "https://localhost:8080/"
        },
        "id": "U8r1X0VSotLX",
        "outputId": "aa0a3d45-951d-43f0-a831-63312f815a40"
      },
      "execution_count": 89,
      "outputs": [
        {
          "output_type": "stream",
          "name": "stdout",
          "text": [
            "Employees with designation 'Developer':\n",
            "+---+-----+------+-----------+--------+------+---+\n",
            "|eno|ename|gender|designation|    city|salary|dno|\n",
            "+---+-----+------+-----------+--------+------+---+\n",
            "|  1|Alice|     F|  Developer|New York| 90000|101|\n",
            "|  4|David|     M|  Developer|New York| 85000|101|\n",
            "+---+-----+------+-----------+--------+------+---+\n",
            "\n"
          ]
        }
      ]
    },
    {
      "cell_type": "code",
      "source": [
        "# Filter emp dataframe based on salary\n",
        "print(\"Employees with salary greater than 80000:\")\n",
        "emp_df.filter(col(\"salary\") > 80000).show()"
      ],
      "metadata": {
        "colab": {
          "base_uri": "https://localhost:8080/"
        },
        "id": "NowcaX9XovTH",
        "outputId": "d454603a-08b4-4ed3-8ac6-81d6ecd3eaa9"
      },
      "execution_count": 90,
      "outputs": [
        {
          "output_type": "stream",
          "name": "stdout",
          "text": [
            "Employees with salary greater than 80000:\n",
            "+---+-----+------+-----------+-------------+------+---+\n",
            "|eno|ename|gender|designation|         city|salary|dno|\n",
            "+---+-----+------+-----------+-------------+------+---+\n",
            "|  1|Alice|     F|  Developer|     New York| 90000|101|\n",
            "|  2|  Bob|     M|    Manager|San Francisco|120000|102|\n",
            "|  4|David|     M|  Developer|     New York| 85000|101|\n",
            "|  5|  Eve|     F|    Manager|       Boston|110000|104|\n",
            "+---+-----+------+-----------+-------------+------+---+\n",
            "\n"
          ]
        }
      ]
    },
    {
      "cell_type": "code",
      "source": [
        "# Show data of departments for female employees\n",
        "print(\"Departments of female employees:\")\n",
        "emp_df.filter(col(\"gender\") == \"F\").join(dept_df, \"dno\").select(\"ename\", \"dname\").show()"
      ],
      "metadata": {
        "colab": {
          "base_uri": "https://localhost:8080/"
        },
        "id": "hym22sFIoxQ3",
        "outputId": "79f50ad4-0963-49db-f9d0-8abc327087c5"
      },
      "execution_count": 91,
      "outputs": [
        {
          "output_type": "stream",
          "name": "stdout",
          "text": [
            "Departments of female employees:\n",
            "+-----+-----+\n",
            "|ename|dname|\n",
            "+-----+-----+\n",
            "|Alice|   IT|\n",
            "|  Eve|Sales|\n",
            "+-----+-----+\n",
            "\n"
          ]
        }
      ]
    },
    {
      "cell_type": "code",
      "source": [
        "# Increase salary of employees whose designation is 'Manager'\n",
        "emp_df = emp_df.withColumn(\"salary\", col(\"salary\") + 10000).where(col(\"designation\") == \"Manager\")"
      ],
      "metadata": {
        "id": "g6IvOtU4o0b3"
      },
      "execution_count": 92,
      "outputs": []
    },
    {
      "cell_type": "code",
      "source": [
        "print(\"Updated employee data with increased salary for Managers:\")\n",
        "emp_df.show()"
      ],
      "metadata": {
        "colab": {
          "base_uri": "https://localhost:8080/"
        },
        "id": "B6jvu4uBo6Jn",
        "outputId": "6247bbf7-2b92-420f-b0e6-c8496498a8e8"
      },
      "execution_count": 93,
      "outputs": [
        {
          "output_type": "stream",
          "name": "stdout",
          "text": [
            "Updated employee data with increased salary for Managers:\n",
            "+---+-----+------+-----------+-------------+------+---+\n",
            "|eno|ename|gender|designation|         city|salary|dno|\n",
            "+---+-----+------+-----------+-------------+------+---+\n",
            "|  2|  Bob|     M|    Manager|San Francisco|130000|102|\n",
            "|  5|  Eve|     F|    Manager|       Boston|120000|104|\n",
            "+---+-----+------+-----------+-------------+------+---+\n",
            "\n"
          ]
        }
      ]
    },
    {
      "cell_type": "code",
      "source": [
        "# Add 3 more records to each dataframe\n",
        "additional_emp_data = [\n",
        "    (6, \"Frank\", \"M\", \"Analyst\", \"Chicago\", 60000, 105),\n",
        "    (7, \"Grace\", \"F\", \"Developer\", \"San Francisco\", 95000, 101),\n",
        "    (8, \"Henry\", \"M\", \"Manager\", \"New York\", 130000, 104)\n",
        "]"
      ],
      "metadata": {
        "id": "774Jt5fbo9G_"
      },
      "execution_count": 94,
      "outputs": []
    },
    {
      "cell_type": "code",
      "source": [
        "additional_dept_data = [\n",
        "    (106, \"Operations\"),\n",
        "    (107, \"Legal\"),\n",
        "    (108, \"R&D\")\n",
        "]"
      ],
      "metadata": {
        "id": "HILccwWvo-5I"
      },
      "execution_count": 95,
      "outputs": []
    },
    {
      "cell_type": "code",
      "source": [
        "# Adding additional records to emp dataframe\n",
        "additional_emp_df = spark.createDataFrame(additional_emp_data, emp_columns)\n",
        "emp_df = emp_df.union(additional_emp_df)"
      ],
      "metadata": {
        "id": "2tL0xeMypBpP"
      },
      "execution_count": 96,
      "outputs": []
    },
    {
      "cell_type": "code",
      "source": [
        "# Adding additional records to dept dataframe\n",
        "additional_dept_df = spark.createDataFrame(additional_dept_data, dept_columns)\n",
        "dept_df = dept_df.union(additional_dept_df)"
      ],
      "metadata": {
        "id": "NreXZV5_pEI3"
      },
      "execution_count": 97,
      "outputs": []
    },
    {
      "cell_type": "code",
      "source": [
        "# Print the schema for both dataframes after adding new records\n",
        "print(\"Schema of emp DataFrame after adding new records:\")\n",
        "emp_df.printSchema()"
      ],
      "metadata": {
        "colab": {
          "base_uri": "https://localhost:8080/"
        },
        "id": "TpjWxCsepGPf",
        "outputId": "7940f198-2354-4bcc-9f8b-bb7a0f71b227"
      },
      "execution_count": 98,
      "outputs": [
        {
          "output_type": "stream",
          "name": "stdout",
          "text": [
            "Schema of emp DataFrame after adding new records:\n",
            "root\n",
            " |-- eno: long (nullable = true)\n",
            " |-- ename: string (nullable = true)\n",
            " |-- gender: string (nullable = true)\n",
            " |-- designation: string (nullable = true)\n",
            " |-- city: string (nullable = true)\n",
            " |-- salary: long (nullable = true)\n",
            " |-- dno: long (nullable = true)\n",
            "\n"
          ]
        }
      ]
    },
    {
      "cell_type": "code",
      "source": [
        "print(\"Schema of dept DataFrame after adding new records:\")\n",
        "dept_df.printSchema()"
      ],
      "metadata": {
        "colab": {
          "base_uri": "https://localhost:8080/"
        },
        "id": "c8GJGRwxpIMH",
        "outputId": "fa7b74e0-0942-402d-f36c-f59f2e59ed5e"
      },
      "execution_count": 99,
      "outputs": [
        {
          "output_type": "stream",
          "name": "stdout",
          "text": [
            "Schema of dept DataFrame after adding new records:\n",
            "root\n",
            " |-- dno: long (nullable = true)\n",
            " |-- dname: string (nullable = true)\n",
            "\n"
          ]
        }
      ]
    },
    {
      "cell_type": "code",
      "source": [
        "# Show the use of join in order to fetch unique records\n",
        "print(\"Unique records by joining emp and dept on 'dno':\")\n",
        "unique_records_df = emp_df.join(dept_df, \"dno\").dropDuplicates()\n",
        "unique_records_df.show()"
      ],
      "metadata": {
        "colab": {
          "base_uri": "https://localhost:8080/"
        },
        "id": "gV7MS-OKpLdn",
        "outputId": "93bc65ee-df8f-4d5c-967d-76f25551aaa3"
      },
      "execution_count": 100,
      "outputs": [
        {
          "output_type": "stream",
          "name": "stdout",
          "text": [
            "Unique records by joining emp and dept on 'dno':\n",
            "+---+---+-----+------+-----------+-------------+------+---------+\n",
            "|dno|eno|ename|gender|designation|         city|salary|    dname|\n",
            "+---+---+-----+------+-----------+-------------+------+---------+\n",
            "|101|  7|Grace|     F|  Developer|San Francisco| 95000|       IT|\n",
            "|102|  2|  Bob|     M|    Manager|San Francisco|130000|       HR|\n",
            "|104|  5|  Eve|     F|    Manager|       Boston|120000|    Sales|\n",
            "|104|  8|Henry|     M|    Manager|     New York|130000|    Sales|\n",
            "|105|  6|Frank|     M|    Analyst|      Chicago| 60000|Marketing|\n",
            "+---+---+-----+------+-----------+-------------+------+---------+\n",
            "\n"
          ]
        }
      ]
    },
    {
      "cell_type": "code",
      "source": [
        "# Show department-wise list of employees\n",
        "print(\"Department-wise list of employees:\")\n",
        "department_wise_employees_df = emp_df.join(dept_df, \"dno\").groupBy(\"dname\").agg(collect_list(\"ename\").alias(\"employees\"))\n",
        "department_wise_employees_df.show(truncate=False)"
      ],
      "metadata": {
        "colab": {
          "base_uri": "https://localhost:8080/"
        },
        "id": "YswZd3qcpNQP",
        "outputId": "d5382c40-1843-461c-dc90-fd47d9577fbc"
      },
      "execution_count": 101,
      "outputs": [
        {
          "output_type": "stream",
          "name": "stdout",
          "text": [
            "Department-wise list of employees:\n",
            "+---------+------------+\n",
            "|dname    |employees   |\n",
            "+---------+------------+\n",
            "|Sales    |[Eve, Henry]|\n",
            "|HR       |[Bob]       |\n",
            "|Marketing|[Frank]     |\n",
            "|IT       |[Grace]     |\n",
            "+---------+------------+\n",
            "\n"
          ]
        }
      ]
    },
    {
      "cell_type": "code",
      "source": [
        "# List of employees whose salary is less than 20000 and designation is 'Analyst'\n",
        "print(\"List of employees whose salary is less than 20000 and designation is 'Analyst':\")\n",
        "emp_df.filter((col(\"salary\") < 20000) & (col(\"designation\") == \"Analyst\")).show()"
      ],
      "metadata": {
        "colab": {
          "base_uri": "https://localhost:8080/"
        },
        "id": "I4CzGtprpPQX",
        "outputId": "a9985b4e-185d-47e6-a669-f9c021e6d052"
      },
      "execution_count": 102,
      "outputs": [
        {
          "output_type": "stream",
          "name": "stdout",
          "text": [
            "List of employees whose salary is less than 20000 and designation is 'Analyst':\n",
            "+---+-----+------+-----------+----+------+---+\n",
            "|eno|ename|gender|designation|city|salary|dno|\n",
            "+---+-----+------+-----------+----+------+---+\n",
            "+---+-----+------+-----------+----+------+---+\n",
            "\n"
          ]
        }
      ]
    },
    {
      "cell_type": "code",
      "source": [],
      "metadata": {
        "id": "Ag5m1nJBpRR_"
      },
      "execution_count": null,
      "outputs": []
    },
    {
      "cell_type": "code",
      "source": [],
      "metadata": {
        "id": "BJ3xkIDlrpTQ"
      },
      "execution_count": null,
      "outputs": []
    },
    {
      "cell_type": "markdown",
      "source": [
        "**Q3**"
      ],
      "metadata": {
        "id": "nKV9aJlprpn3"
      }
    },
    {
      "cell_type": "code",
      "source": [
        "from pyspark.sql import SparkSession\n",
        "from pyspark.sql.functions import col, sum, date_format, min, max, count"
      ],
      "metadata": {
        "id": "qvaRLhXqrsoI"
      },
      "execution_count": 105,
      "outputs": []
    },
    {
      "cell_type": "code",
      "source": [
        "# Initialize Spark session\n",
        "spark = SparkSession.builder.appName(\"ProductRevenueData\").getOrCreate()"
      ],
      "metadata": {
        "id": "e398XSS8rxId"
      },
      "execution_count": 106,
      "outputs": []
    },
    {
      "cell_type": "code",
      "source": [
        "# Create the Product dataframe\n",
        "product_data = [\n",
        "    (1, \"Product A\", \"Type 1\", 100),\n",
        "    (2, \"Product B\", \"Type 2\", 200),\n",
        "    (3, \"Product C\", \"Type 3\", 300),\n",
        "    (4, \"Product D\", \"Type 1\", 150),\n",
        "    (5, \"Product E\", \"Type 2\", 250)\n",
        "]"
      ],
      "metadata": {
        "id": "vnNo0O2grzAG"
      },
      "execution_count": 107,
      "outputs": []
    },
    {
      "cell_type": "code",
      "source": [
        "product_columns = [\"product_id\", \"pname\", \"ptype\", \"price\"]\n",
        "product_df = spark.createDataFrame(product_data, product_columns)"
      ],
      "metadata": {
        "id": "VthtBQbdr02f"
      },
      "execution_count": 108,
      "outputs": []
    },
    {
      "cell_type": "code",
      "source": [
        "# Create the Customer dataframe\n",
        "customer_data = [\n",
        "    (1, \"Alice\", \"1234567890\", \"Pune\"),\n",
        "    (2, \"Bob\", \"0987654321\", \"Mumbai\"),\n",
        "    (3, \"Charlie\", \"5555555555\", \"Pune\"),\n",
        "    (4, \"David\", \"4444444444\", \"Delhi\"),\n",
        "    (5, \"Eve\", \"3333333333\", \"Pune\")\n",
        "]"
      ],
      "metadata": {
        "id": "iMFfr6TJr2oe"
      },
      "execution_count": 109,
      "outputs": []
    },
    {
      "cell_type": "code",
      "source": [
        "customer_columns = [\"cust_id\", \"cname\", \"mobileno\", \"city\"]\n",
        "customer_df = spark.createDataFrame(customer_data, customer_columns)"
      ],
      "metadata": {
        "id": "sSfhLtYEr4ef"
      },
      "execution_count": 113,
      "outputs": []
    },
    {
      "cell_type": "code",
      "source": [
        "# Create the Orders dataframe\n",
        "orders_data = [\n",
        "    (1, \"2013-08-01\", 1, \"COMPLETE\"),\n",
        "    (2, \"2013-08-02\", 2, \"CLOSED\"),\n",
        "    (3, \"2013-08-01\", 3, \"PENDING\"),\n",
        "    (4, \"2013-08-05\", 4, \"COMPLETE\"),\n",
        "    (5, \"2013-08-10\", 5, \"CLOSED\")\n",
        "]"
      ],
      "metadata": {
        "id": "eqcLiCWpr_D7"
      },
      "execution_count": 114,
      "outputs": []
    },
    {
      "cell_type": "code",
      "source": [
        "orders_columns = [\"order_id\", \"order_date\", \"order_customer_id\", \"order_status\"]\n",
        "orders_df = spark.createDataFrame(orders_data, orders_columns)"
      ],
      "metadata": {
        "id": "Kc_7gM2UsAER"
      },
      "execution_count": 115,
      "outputs": []
    },
    {
      "cell_type": "code",
      "source": [
        "# Create the Order Items dataframe\n",
        "order_items_data = [\n",
        "    (1, 1, 2, 200),\n",
        "    (2, 2, 1, 200),\n",
        "    (3, 3, 3, 900),\n",
        "    (4, 4, 4, 600),\n",
        "    (5, 5, 2, 500)\n",
        "]"
      ],
      "metadata": {
        "id": "Yffy4KozsGVg"
      },
      "execution_count": 116,
      "outputs": []
    },
    {
      "cell_type": "code",
      "source": [
        "order_items_columns = [\"order_item_order_id\", \"order_item_product_id\", \"order_item_quantity\", \"order_item_subtotal\"]\n",
        "order_items_df = spark.createDataFrame(order_items_data, order_items_columns)"
      ],
      "metadata": {
        "id": "JiBH73qPsIaI"
      },
      "execution_count": 117,
      "outputs": []
    },
    {
      "cell_type": "code",
      "source": [
        "# Get details of all customers from Pune city\n",
        "print(\"Customers from Pune:\")\n",
        "customers_from_pune = customer_df.filter(col(\"city\") == \"Pune\")\n",
        "customers_from_pune.show()"
      ],
      "metadata": {
        "colab": {
          "base_uri": "https://localhost:8080/"
        },
        "id": "HXhaNI-LsKvr",
        "outputId": "3025ece7-3fc0-43bd-aa19-dc55c2d4c169"
      },
      "execution_count": 118,
      "outputs": [
        {
          "output_type": "stream",
          "name": "stdout",
          "text": [
            "Customers from Pune:\n",
            "+-------+-------+----------+----+\n",
            "|cust_id|  cname|  mobileno|city|\n",
            "+-------+-------+----------+----+\n",
            "|      1|  Alice|1234567890|Pune|\n",
            "|      3|Charlie|5555555555|Pune|\n",
            "|      5|    Eve|3333333333|Pune|\n",
            "+-------+-------+----------+----+\n",
            "\n"
          ]
        }
      ]
    },
    {
      "cell_type": "code",
      "source": [
        "# Get details of orders with subtotal > some value in a specific month\n",
        "subtotal_threshold = 500\n",
        "month = \"08\"  # August\n",
        "orders_with_high_subtotal = orders_df.join(order_items_df, orders_df[\"order_id\"] == order_items_df[\"order_item_order_id\"]) \\\n",
        "    .filter((order_items_df[\"order_item_subtotal\"] > subtotal_threshold) & (date_format(orders_df[\"order_date\"], \"MM\") == month))\n",
        "print(f\"Orders with subtotal > {subtotal_threshold} in month {month}:\")\n",
        "orders_with_high_subtotal.show()"
      ],
      "metadata": {
        "colab": {
          "base_uri": "https://localhost:8080/"
        },
        "id": "3HJx_clZsMnr",
        "outputId": "bd2cbe07-4974-4bb2-f8ba-18258f9e7332"
      },
      "execution_count": 119,
      "outputs": [
        {
          "output_type": "stream",
          "name": "stdout",
          "text": [
            "Orders with subtotal > 500 in month 08:\n",
            "+--------+----------+-----------------+------------+-------------------+---------------------+-------------------+-------------------+\n",
            "|order_id|order_date|order_customer_id|order_status|order_item_order_id|order_item_product_id|order_item_quantity|order_item_subtotal|\n",
            "+--------+----------+-----------------+------------+-------------------+---------------------+-------------------+-------------------+\n",
            "|       3|2013-08-01|                3|     PENDING|                  3|                    3|                  3|                900|\n",
            "|       4|2013-08-05|                4|    COMPLETE|                  4|                    4|                  4|                600|\n",
            "+--------+----------+-----------------+------------+-------------------+---------------------+-------------------+-------------------+\n",
            "\n"
          ]
        }
      ]
    },
    {
      "cell_type": "code",
      "source": [
        "# Print orders in ascending order of subtotal\n",
        "print(\"Orders in ascending order of subtotal:\")\n",
        "orders_sorted_by_subtotal = orders_df.join(order_items_df, orders_df[\"order_id\"] == order_items_df[\"order_item_order_id\"]) \\\n",
        "    .orderBy(order_items_df[\"order_item_subtotal\"])\n",
        "orders_sorted_by_subtotal.show()"
      ],
      "metadata": {
        "colab": {
          "base_uri": "https://localhost:8080/"
        },
        "id": "cUgA8UfQsPAT",
        "outputId": "4d854f8a-4b93-47ae-a2c6-025f3ccc193d"
      },
      "execution_count": 120,
      "outputs": [
        {
          "output_type": "stream",
          "name": "stdout",
          "text": [
            "Orders in ascending order of subtotal:\n",
            "+--------+----------+-----------------+------------+-------------------+---------------------+-------------------+-------------------+\n",
            "|order_id|order_date|order_customer_id|order_status|order_item_order_id|order_item_product_id|order_item_quantity|order_item_subtotal|\n",
            "+--------+----------+-----------------+------------+-------------------+---------------------+-------------------+-------------------+\n",
            "|       1|2013-08-01|                1|    COMPLETE|                  1|                    1|                  2|                200|\n",
            "|       2|2013-08-02|                2|      CLOSED|                  2|                    2|                  1|                200|\n",
            "|       5|2013-08-10|                5|      CLOSED|                  5|                    5|                  2|                500|\n",
            "|       4|2013-08-05|                4|    COMPLETE|                  4|                    4|                  4|                600|\n",
            "|       3|2013-08-01|                3|     PENDING|                  3|                    3|                  3|                900|\n",
            "+--------+----------+-----------------+------------+-------------------+---------------------+-------------------+-------------------+\n",
            "\n"
          ]
        }
      ]
    },
    {
      "cell_type": "code",
      "source": [
        "# Print customer details with min order and max order amount\n",
        "print(\"Customer details with min and max order amount:\")\n",
        "customer_order_amounts = orders_df.join(order_items_df, orders_df[\"order_id\"] == order_items_df[\"order_item_order_id\"]) \\\n",
        "    .groupBy(\"order_customer_id\") \\\n",
        "    .agg(min(\"order_item_subtotal\").alias(\"min_order_amount\"), max(\"order_item_subtotal\").alias(\"max_order_amount\"))\n",
        "customer_details_with_orders = customer_order_amounts.join(customer_df, customer_order_amounts[\"order_customer_id\"] == customer_df[\"cust_id\"])\n",
        "customer_details_with_orders.show()"
      ],
      "metadata": {
        "colab": {
          "base_uri": "https://localhost:8080/"
        },
        "id": "pAvfvT92sQ1z",
        "outputId": "cb2269e7-de01-4b34-b52e-b4033050ebcb"
      },
      "execution_count": 121,
      "outputs": [
        {
          "output_type": "stream",
          "name": "stdout",
          "text": [
            "Customer details with min and max order amount:\n",
            "+-----------------+----------------+----------------+-------+-------+----------+------+\n",
            "|order_customer_id|min_order_amount|max_order_amount|cust_id|  cname|  mobileno|  city|\n",
            "+-----------------+----------------+----------------+-------+-------+----------+------+\n",
            "|                1|             200|             200|      1|  Alice|1234567890|  Pune|\n",
            "|                2|             200|             200|      2|    Bob|0987654321|Mumbai|\n",
            "|                5|             500|             500|      5|    Eve|3333333333|  Pune|\n",
            "|                3|             900|             900|      3|Charlie|5555555555|  Pune|\n",
            "|                4|             600|             600|      4|  David|4444444444| Delhi|\n",
            "+-----------------+----------------+----------------+-------+-------+----------+------+\n",
            "\n"
          ]
        }
      ]
    },
    {
      "cell_type": "code",
      "source": [
        "# Get orders which are either COMPLETE or CLOSED\n",
        "print(\"Orders which are either COMPLETE or CLOSED:\")\n",
        "complete_or_closed_orders = orders_df.filter((col(\"order_status\") == \"COMPLETE\") | (col(\"order_status\") == \"CLOSED\"))\n",
        "complete_or_closed_orders.show()"
      ],
      "metadata": {
        "colab": {
          "base_uri": "https://localhost:8080/"
        },
        "id": "s_gZFjbGsTQU",
        "outputId": "e9d8e653-f084-4a06-8249-e389663786c6"
      },
      "execution_count": 122,
      "outputs": [
        {
          "output_type": "stream",
          "name": "stdout",
          "text": [
            "Orders which are either COMPLETE or CLOSED:\n",
            "+--------+----------+-----------------+------------+\n",
            "|order_id|order_date|order_customer_id|order_status|\n",
            "+--------+----------+-----------------+------------+\n",
            "|       1|2013-08-01|                1|    COMPLETE|\n",
            "|       2|2013-08-02|                2|      CLOSED|\n",
            "|       4|2013-08-05|                4|    COMPLETE|\n",
            "|       5|2013-08-10|                5|      CLOSED|\n",
            "+--------+----------+-----------------+------------+\n",
            "\n"
          ]
        }
      ]
    },
    {
      "cell_type": "code",
      "source": [
        "# Get orders which are either COMPLETE or CLOSED and placed in the month of August 2013\n",
        "print(\"Orders which are either COMPLETE or CLOSED and placed in August 2013:\")\n",
        "complete_or_closed_august_orders = complete_or_closed_orders.filter((date_format(col(\"order_date\"), \"yyyy-MM\") == \"2013-08\"))\n",
        "complete_or_closed_august_orders.show()"
      ],
      "metadata": {
        "colab": {
          "base_uri": "https://localhost:8080/"
        },
        "id": "NGPSU19wsVi7",
        "outputId": "18be63f6-a10a-438a-905e-672968667bac"
      },
      "execution_count": 123,
      "outputs": [
        {
          "output_type": "stream",
          "name": "stdout",
          "text": [
            "Orders which are either COMPLETE or CLOSED and placed in August 2013:\n",
            "+--------+----------+-----------------+------------+\n",
            "|order_id|order_date|order_customer_id|order_status|\n",
            "+--------+----------+-----------------+------------+\n",
            "|       1|2013-08-01|                1|    COMPLETE|\n",
            "|       2|2013-08-02|                2|      CLOSED|\n",
            "|       4|2013-08-05|                4|    COMPLETE|\n",
            "|       5|2013-08-10|                5|      CLOSED|\n",
            "+--------+----------+-----------------+------------+\n",
            "\n"
          ]
        }
      ]
    },
    {
      "cell_type": "code",
      "source": [
        "# Get order items where order_item_subtotal is not equal to the product of order_item_quantity and product price\n",
        "print(\"Order items where order_item_subtotal is not equal to quantity * product price:\")\n",
        "order_items_with_discrepancy = order_items_df.join(product_df, order_items_df[\"order_item_product_id\"] == product_df[\"product_id\"]) \\\n",
        "    .filter(order_items_df[\"order_item_subtotal\"] != (order_items_df[\"order_item_quantity\"] * product_df[\"price\"]))\n",
        "order_items_with_discrepancy.show()"
      ],
      "metadata": {
        "colab": {
          "base_uri": "https://localhost:8080/"
        },
        "id": "Tc7892ZhsXNT",
        "outputId": "f1ec15b2-6eee-4ca1-fc7d-e86e0c2119d8"
      },
      "execution_count": 124,
      "outputs": [
        {
          "output_type": "stream",
          "name": "stdout",
          "text": [
            "Order items where order_item_subtotal is not equal to quantity * product price:\n",
            "+-------------------+---------------------+-------------------+-------------------+----------+-----+-----+-----+\n",
            "|order_item_order_id|order_item_product_id|order_item_quantity|order_item_subtotal|product_id|pname|ptype|price|\n",
            "+-------------------+---------------------+-------------------+-------------------+----------+-----+-----+-----+\n",
            "+-------------------+---------------------+-------------------+-------------------+----------+-----+-----+-----+\n",
            "\n"
          ]
        }
      ]
    },
    {
      "cell_type": "code",
      "source": [
        "# Get all orders placed on the first of every month\n",
        "print(\"Orders placed on the first of every month:\")\n",
        "orders_on_first_day = orders_df.filter(date_format(col(\"order_date\"), \"dd\") == \"01\")\n",
        "orders_on_first_day.show()"
      ],
      "metadata": {
        "colab": {
          "base_uri": "https://localhost:8080/"
        },
        "id": "3e6kKYimsZGT",
        "outputId": "cb6da837-564d-4187-8c1f-08e40d8253b9"
      },
      "execution_count": 125,
      "outputs": [
        {
          "output_type": "stream",
          "name": "stdout",
          "text": [
            "Orders placed on the first of every month:\n",
            "+--------+----------+-----------------+------------+\n",
            "|order_id|order_date|order_customer_id|order_status|\n",
            "+--------+----------+-----------------+------------+\n",
            "|       1|2013-08-01|                1|    COMPLETE|\n",
            "|       3|2013-08-01|                3|     PENDING|\n",
            "+--------+----------+-----------------+------------+\n",
            "\n"
          ]
        }
      ]
    },
    {
      "cell_type": "code",
      "source": [
        "# Get count by status from orders\n",
        "print(\"Count by status from orders:\")\n",
        "count_by_status = orders_df.groupBy(\"order_status\").agg(count(\"*\").alias(\"status_count\"))\n",
        "count_by_status.show()"
      ],
      "metadata": {
        "colab": {
          "base_uri": "https://localhost:8080/"
        },
        "id": "085oUTuJsbEW",
        "outputId": "3afd5c61-6f8f-40c4-f7aa-7d560455b241"
      },
      "execution_count": 126,
      "outputs": [
        {
          "output_type": "stream",
          "name": "stdout",
          "text": [
            "Count by status from orders:\n",
            "+------------+------------+\n",
            "|order_status|status_count|\n",
            "+------------+------------+\n",
            "|    COMPLETE|           2|\n",
            "|      CLOSED|           2|\n",
            "|     PENDING|           1|\n",
            "+------------+------------+\n",
            "\n"
          ]
        }
      ]
    },
    {
      "cell_type": "code",
      "source": [
        "# Get revenue for each order id from order items\n",
        "print(\"Revenue for each order id from order items:\")\n",
        "revenue_per_order = order_items_df.groupBy(\"order_item_order_id\").agg(sum(\"order_item_subtotal\").alias(\"total_revenue\"))\n",
        "revenue_per_order.show()"
      ],
      "metadata": {
        "colab": {
          "base_uri": "https://localhost:8080/"
        },
        "id": "1Jv1pqjjsdOe",
        "outputId": "87ffc142-dd5c-4d7d-9e56-2eb4f22addd2"
      },
      "execution_count": 127,
      "outputs": [
        {
          "output_type": "stream",
          "name": "stdout",
          "text": [
            "Revenue for each order id from order items:\n",
            "+-------------------+-------------+\n",
            "|order_item_order_id|total_revenue|\n",
            "+-------------------+-------------+\n",
            "|                  1|          200|\n",
            "|                  2|          200|\n",
            "|                  5|          500|\n",
            "|                  3|          900|\n",
            "|                  4|          600|\n",
            "+-------------------+-------------+\n",
            "\n"
          ]
        }
      ]
    },
    {
      "cell_type": "code",
      "source": [
        "# Get daily product revenue (order_date and order_item_product_id are part of keys, order_item_subtotal is used for aggregation)\n",
        "print(\"Daily product revenue:\")\n",
        "daily_product_revenue = orders_df.join(order_items_df, orders_df[\"order_id\"] == order_items_df[\"order_item_order_id\"]) \\\n",
        "    .groupBy(\"order_date\", \"order_item_product_id\") \\\n",
        "    .agg(sum(\"order_item_subtotal\").alias(\"daily_revenue\"))\n",
        "daily_product_revenue.show()"
      ],
      "metadata": {
        "colab": {
          "base_uri": "https://localhost:8080/"
        },
        "id": "LpuweJqese7e",
        "outputId": "1b62970a-7fee-4c62-8825-4071b88ac08e"
      },
      "execution_count": 128,
      "outputs": [
        {
          "output_type": "stream",
          "name": "stdout",
          "text": [
            "Daily product revenue:\n",
            "+----------+---------------------+-------------+\n",
            "|order_date|order_item_product_id|daily_revenue|\n",
            "+----------+---------------------+-------------+\n",
            "|2013-08-02|                    2|          200|\n",
            "|2013-08-05|                    4|          600|\n",
            "|2013-08-10|                    5|          500|\n",
            "|2013-08-01|                    1|          200|\n",
            "|2013-08-01|                    3|          900|\n",
            "+----------+---------------------+-------------+\n",
            "\n"
          ]
        }
      ]
    },
    {
      "cell_type": "code",
      "source": [],
      "metadata": {
        "id": "yivOQ5qisg7O"
      },
      "execution_count": null,
      "outputs": []
    }
  ]
}